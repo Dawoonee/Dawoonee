{
 "cells": [
  {
   "cell_type": "code",
   "execution_count": null,
   "metadata": {},
   "outputs": [],
   "source": [
    "#1330\n",
    "A, B = map(int, input().split())\n",
    "if A > B:\n",
    "    print('>')\n",
    "elif A < B:\n",
    "    print('<')\n",
    "else:\n",
    "    print('==')\n"
   ]
  },
  {
   "cell_type": "code",
   "execution_count": null,
   "metadata": {},
   "outputs": [],
   "source": [
    "#2438\n",
    "N = int(input())\n",
    "for i in range(1,N+1):\n",
    "    print('*'*i)"
   ]
  },
  {
   "cell_type": "code",
   "execution_count": null,
   "metadata": {},
   "outputs": [],
   "source": [
    "#2475\n",
    "PW = list(map(int,input().split()))\n",
    "num = list()\n",
    "for i in PW:\n",
    "    i = i**2\n",
    "    num.append(i)\n",
    "key = sum(num) % 10\n",
    "print(key)"
   ]
  },
  {
   "cell_type": "code",
   "execution_count": null,
   "metadata": {},
   "outputs": [],
   "source": [
    "#2739\n",
    "\n",
    "N = int(input())\n",
    "for i in range(1,10):\n",
    "    j = N*i\n",
    "    print(f'{N} * {i} = {j}')"
   ]
  },
  {
   "cell_type": "code",
   "execution_count": null,
   "metadata": {},
   "outputs": [],
   "source": [
    "#2741\n",
    "N = int(input())\n",
    "for i in range(1,N+1):\n",
    "    print(i)"
   ]
  },
  {
   "cell_type": "code",
   "execution_count": null,
   "metadata": {},
   "outputs": [],
   "source": [
    "#2753\n",
    "Year = int(input())\n",
    "if ((Year % 4 == 0)and(Year % 100 != 0))or(Year % 400 == 0):\n",
    "    print('1')\n",
    "else:\n",
    "    print('0')"
   ]
  },
  {
   "cell_type": "code",
   "execution_count": null,
   "metadata": {},
   "outputs": [],
   "source": [
    "#9498\n",
    "Score = int(input())\n",
    "if 90 <= Score <= 100:\n",
    "    print('A')\n",
    "elif 80 <= Score <= 89:\n",
    "    print('B')\n",
    "elif 70 <= Score <= 79:\n",
    "    print('C')\n",
    "elif 60 <= Score <= 69:\n",
    "    print('D')\n",
    "elif 0 <= Score <= 59:\n",
    "    print('F')\n",
    "else:\n",
    "    exit"
   ]
  },
  {
   "cell_type": "code",
   "execution_count": null,
   "metadata": {},
   "outputs": [],
   "source": [
    "#10171\n",
    "print(\"\\\\    /\\\\\")\n",
    "print(\" )  ( ')\")\n",
    "print('(  /  )')\n",
    "print(' \\\\(__)|')"
   ]
  },
  {
   "cell_type": "code",
   "execution_count": null,
   "metadata": {},
   "outputs": [],
   "source": [
    "#10172\n",
    "print('|\\_/|')\n",
    "print('|q p|   /}')\n",
    "print('( 0 )\"\"\"\\\\')\n",
    "print('|\"^\"`    |')\n",
    "print('||_/=\\\\\\\\__|')"
   ]
  },
  {
   "cell_type": "code",
   "execution_count": null,
   "metadata": {},
   "outputs": [],
   "source": [
    "#10871\n",
    "N,X = list(map(int,input().split()))\n",
    "A = list(map(int,input().split()))\n",
    "result = list()\n",
    "for i in A:\n",
    "    if i < X:\n",
    "        result.append(i)\n",
    "    \n",
    "print(*result)  # '*'을 붙일 경우 리스트 요소를 공백으로 출력"
   ]
  },
  {
   "cell_type": "code",
   "execution_count": null,
   "metadata": {},
   "outputs": [],
   "source": [
    "#10950\n",
    "T = int(input())\n",
    "for i in range(1,T+1):\n",
    "    key = 0\n",
    "    A,B = map(int,input().split())\n",
    "    key = A + B\n",
    "    print(key)\n"
   ]
  },
  {
   "cell_type": "code",
   "execution_count": null,
   "metadata": {},
   "outputs": [],
   "source": [
    "#10951\n",
    "while 1:\n",
    "    try:\n",
    "        A,B = map(int,input().split())\n",
    "        result = A + B\n",
    "        print(result)\n",
    "    except EOFError:    # EOF(런타임 에러->입력이 없으면 발생!)\n",
    "        break"
   ]
  },
  {
   "cell_type": "code",
   "execution_count": 46,
   "metadata": {},
   "outputs": [],
   "source": [
    "#10952\n",
    "while 1:\n",
    "    A,B = map(int,input().split())\n",
    "    if (A == 0)and(B == 0):\n",
    "        break\n",
    "    result = A + B\n",
    "    print(result)"
   ]
  },
  {
   "cell_type": "code",
   "execution_count": null,
   "metadata": {},
   "outputs": [],
   "source": [
    "#11654\n",
    "while 1:\n",
    "    try:\n",
    "        ASCII = input()\n",
    "        print(ord(ASCII))\n",
    "    except EOFError:\n",
    "        break"
   ]
  },
  {
   "cell_type": "code",
   "execution_count": null,
   "metadata": {},
   "outputs": [],
   "source": [
    "#25083\n",
    "print((\"         ,r'\")+('\"7'))\n",
    "print(\"r`-_   ,'  ,/\")\n",
    "print((' \\. \". L')+(\"_r'\"))\n",
    "print(\"   `~\\/\")\n",
    "print(\"      |\")\n",
    "print(\"      |\")"
   ]
  },
  {
   "cell_type": "code",
   "execution_count": null,
   "metadata": {},
   "outputs": [],
   "source": [
    "#27866\n",
    "S = str(input())\n",
    "i = int(input())\n",
    "print(S[i-1])"
   ]
  },
  {
   "cell_type": "code",
   "execution_count": null,
   "metadata": {},
   "outputs": [],
   "source": [
    "#2439\n",
    "N = int(input())\n",
    "for i in range(0,N):\n",
    "    print((\" \"*((N-i)-1))+('*'*(i+1)))"
   ]
  },
  {
   "cell_type": "code",
   "execution_count": null,
   "metadata": {},
   "outputs": [],
   "source": [
    "#11720\n",
    "N = int(input())    #숫자의 개수\n",
    "NUM = list(map(int,input()))\n",
    "SUM = 0\n",
    "\n",
    "for i in range(0,N):\n",
    "    print(type(NUM))\n",
    "    SUM = NUM[i] + SUM\n",
    "\n",
    "print(SUM,type(SUM))"
   ]
  },
  {
   "cell_type": "code",
   "execution_count": null,
   "metadata": {},
   "outputs": [],
   "source": [
    "#31403\n",
    "A = int(input())\n",
    "B = int(input())\n",
    "C = int(input())\n",
    "\n",
    "print(A+B-C)\n",
    "\n",
    "A1 = str(A)\n",
    "B1 = str(B)\n",
    "key = A1 + B1\n",
    "\n",
    "key1 = int(key)\n",
    "result = key1 - C\n",
    "\n",
    "print(result)\n"
   ]
  },
  {
   "cell_type": "code",
   "execution_count": null,
   "metadata": {},
   "outputs": [],
   "source": [
    "#2562\n",
    "MAX = 0\n",
    "Check = 0\n",
    "\n",
    "for i in range (1,10):\n",
    "    N = int(input())\n",
    "    if N > MAX:\n",
    "        MAX = N\n",
    "        Check = i\n",
    "\n",
    "print(MAX)\n",
    "print(Check)"
   ]
  },
  {
   "cell_type": "code",
   "execution_count": null,
   "metadata": {},
   "outputs": [],
   "source": [
    "#2884\n",
    "H,M = map(int,input().split())\n",
    "\n",
    "if M < 45:\n",
    "    H = H - 1\n",
    "    M = M + 15\n",
    "    if H < 0:\n",
    "        H = 23\n",
    "else:\n",
    "    M = M - 45\n",
    "print(H,M)"
   ]
  },
  {
   "cell_type": "code",
   "execution_count": null,
   "metadata": {},
   "outputs": [],
   "source": [
    "#10250\n",
    "T = int(input())\n",
    "\n",
    "for i in range(1,T+1):\n",
    "    H,W,N = map(int,input().split())\n",
    "    floor = N % H\n",
    "    room = N // H+1\n",
    "    if floor == 0:\n",
    "        floor = H\n",
    "        room = N // H\n",
    "    result = (floor*100)+(room)\n",
    "    if ((H*100)+W) < result:\n",
    "        print('방이 없습니다!')\n",
    "        break\n",
    "    print(result)"
   ]
  },
  {
   "cell_type": "code",
   "execution_count": null,
   "metadata": {},
   "outputs": [],
   "source": [
    "#10818\n",
    "N = int(input())\n",
    "NUM = list(map(int,input().split()))\n",
    "MIN = 1000000\n",
    "MAX = -1000000\n",
    "\n",
    "for i in range(0,N):\n",
    "    if MAX < NUM[i]:\n",
    "        MAX = NUM[i]\n",
    "    if NUM[i] < MIN:\n",
    "        MIN = NUM[i]\n",
    "\n",
    "print(MIN,MAX)\n",
    "\n",
    "\"\"\"\n",
    "# 모범답안(python내 min,max 함수 사용)\n",
    "\n",
    "N = int(input())\n",
    "NUM = list(map(int,input().split()))\n",
    "\n",
    "print(min(NUM),max(NUM))\n",
    "\"\"\""
   ]
  },
  {
   "cell_type": "code",
   "execution_count": null,
   "metadata": {},
   "outputs": [],
   "source": [
    "#1152\n",
    "Word = list(map(str,input().split()))\n",
    "print(len(Word))\n",
    "\n",
    "\"\"\"\n",
    "#반복문으로 풀때\n",
    "Word = list(map(str,input().split()))\n",
    "Count = 0\n",
    "for i in Word:\n",
    "    Count += 1\n",
    "print(Count)\n",
    "\"\"\""
   ]
  },
  {
   "cell_type": "code",
   "execution_count": null,
   "metadata": {},
   "outputs": [],
   "source": [
    "#2577\n",
    "A = int(input())\n",
    "B = int(input())\n",
    "C = int(input())\n",
    "\n",
    "N = A * B * C\n",
    "NUM = str(N)\n",
    "C_0 = 0\n",
    "C_1 = 0\n",
    "C_2 = 0\n",
    "C_3 = 0\n",
    "C_4 = 0\n",
    "C_5 = 0\n",
    "C_6 = 0\n",
    "C_7 = 0\n",
    "C_8 = 0\n",
    "C_9 = 0\n",
    "\n",
    "for i in NUM:\n",
    "    if i == '0':\n",
    "        C_0 += 1\n",
    "    elif i == '1':\n",
    "        C_1 += 1\n",
    "    elif i == '2':\n",
    "        C_2 += 1\n",
    "    elif i == '3':\n",
    "        C_3 += 1\n",
    "    elif i == '4':\n",
    "        C_4 += 1\n",
    "    elif i == '5':\n",
    "        C_5 += 1\n",
    "    elif i == '6':\n",
    "        C_6 += 1\n",
    "    elif i == '7':\n",
    "        C_7 += 1\n",
    "    elif i == '8':\n",
    "        C_8 += 1\n",
    "    elif i == '9':\n",
    "        C_9 += 1    \n",
    "print(C_0)\n",
    "print(C_1)\n",
    "print(C_2)\n",
    "print(C_3)\n",
    "print(C_4)\n",
    "print(C_5)\n",
    "print(C_6)\n",
    "print(C_7)\n",
    "print(C_8)\n",
    "print(C_9)"
   ]
  },
  {
   "cell_type": "code",
   "execution_count": null,
   "metadata": {},
   "outputs": [],
   "source": [
    "#2675\n",
    "T = int(input())\n",
    "\n",
    "for i in range(1,T+1):\n",
    "    R,S = list(map(str,input().split()))\n",
    "    RE = int(R)\n",
    "    result = 0\n",
    "    key = str()\n",
    "    for i in S:\n",
    "        result = i*RE\n",
    "        key = key + result\n",
    "    print(key)"
   ]
  },
  {
   "cell_type": "code",
   "execution_count": null,
   "metadata": {},
   "outputs": [],
   "source": [
    "#2920\n",
    "\n",
    "N = list(map(str,input().split()))\n",
    "key = str()\n",
    "\n",
    "for i in N:\n",
    "    key = key + i\n",
    "if key == '12345678':\n",
    "    print('ascending')\n",
    "elif key == '87654321':\n",
    "    print('descending')\n",
    "else:\n",
    "    print('mixed')"
   ]
  },
  {
   "cell_type": "code",
   "execution_count": null,
   "metadata": {},
   "outputs": [],
   "source": [
    "#3052\n",
    "\n",
    "A = []\n",
    "\n",
    "for i in range(0,10):\n",
    "    NUM = int(input())\n",
    "    B = NUM % 42\n",
    "    if B not in A:\n",
    "        A.append(B)\n",
    "\n",
    "print(len(A))\n"
   ]
  },
  {
   "cell_type": "code",
   "execution_count": null,
   "metadata": {},
   "outputs": [],
   "source": [
    "#8958\n",
    "\n",
    "N = int(input())\n",
    "\n",
    "for i in range(1,N+1):\n",
    "    result = list(input())\n",
    "    score = 0\n",
    "    plus = 0\n",
    "    for i in result:\n",
    "        if i == 'O':\n",
    "            score += (plus + 1)\n",
    "            plus += 1\n",
    "        elif i == 'X':\n",
    "            plus = 0\n",
    "    print(score)\n"
   ]
  },
  {
   "cell_type": "code",
   "execution_count": null,
   "metadata": {},
   "outputs": [
    {
     "name": "stdout",
     "output_type": "stream",
     "text": [
      "1 0 -1 -1 2 -1 -1 -1 -1 4 3 -1 -1 7 6 -1 -1 -1 -1 -1 -1 -1 -1 -1 -1 -1\n"
     ]
    }
   ],
   "source": [
    "#10809\n",
    "\n",
    "S = list(input())\n",
    "Alp = ['a','b','c','d','e','f',\n",
    "       'g','h','i','j','k','l',\n",
    "       'm','n','o','p','q','r',\n",
    "       's','t','u','v','w','x','y','z']\n",
    "NUM = []\n",
    "Word = 0\n",
    "\n",
    "for i in Alp:\n",
    "    Word = -1\n",
    "    for j in range(len(S)):\n",
    "        if S[j] == i:\n",
    "            Word = j\n",
    "            break       # 처음 등장하는 위치만 변하도록 하기 위함.\n",
    "    NUM.append(Word)\n",
    "\n",
    "print(*NUM)     # '*'로 list를 공백으로 구분하여 출력"
   ]
  },
  {
   "cell_type": "code",
   "execution_count": null,
   "metadata": {},
   "outputs": [],
   "source": [
    "#10809\n",
    "\n",
    "S = list(input())\n",
    "Alp = ['a','b','c','d','e','f',\n",
    "       'g','h','i','j','k','l',\n",
    "       'm','n','o','p','q','r',\n",
    "       's','t','u','v','w','x','y','z']\n",
    "NUM = []\n",
    "Word = 0\n",
    "Step = 0\n",
    "\n",
    "for i in Alp:\n",
    "    Word = -1\n",
    "    for j in S:\n",
    "        if j == i:\n",
    "            Word = Step\n",
    "            Step += 1\n",
    "            break       # 처음 등장하는 위치만 변하도록 하기 위함.\n",
    "    NUM.append(Word)\n",
    "\n",
    "print(*NUM)     # '*'로 list를 공백으로 구분하여 출력"
   ]
  },
  {
   "cell_type": "code",
   "execution_count": null,
   "metadata": {},
   "outputs": [],
   "source": [
    "#4153\n",
    "\n",
    "while 1:\n",
    "    NUM = list(map(int,input().split()))\n",
    "    A = NUM[0]\n",
    "    B = NUM[1]\n",
    "    C = NUM[2]\n",
    "\n",
    "    if NUM == [0, 0, 0]:\n",
    "        break    \n",
    "    \n",
    "    if A**2 + B**2 == C**2:\n",
    "        print('right')\n",
    "    elif A**2 + C**2 == B**2:\n",
    "        print('right')        \n",
    "    elif C**2 + B**2 == A**2:\n",
    "        print('right')\n",
    "    else:\n",
    "        print('wrong')"
   ]
  },
  {
   "cell_type": "code",
   "execution_count": null,
   "metadata": {},
   "outputs": [],
   "source": [
    "#30802\n",
    "\n",
    "N = int(input())\n",
    "Size = list(map(int,input().split()))\n",
    "TP = list(map(int,input().split()))\n",
    "\n",
    "T_NUM = 0\n",
    "P_NUM = 0\n",
    "P_PIS = 0\n",
    "T = TP[0]\n",
    "P = TP[1]\n",
    "\n",
    "for i in Size:\n",
    "    if T < i:\n",
    "        if i % T == 0:\n",
    "            T_NUM = T_NUM + (i//T) \n",
    "        else:\n",
    "            T_NUM = T_NUM + (i//T) + 1\n",
    "    elif i == 0:\n",
    "        continue\n",
    "    else:\n",
    "        T_NUM += 1\n",
    "\n",
    "P_NUM = N % P\n",
    "P_PIS = N // P\n",
    "\n",
    "print(T_NUM)\n",
    "print(P_PIS,P_NUM)\n"
   ]
  },
  {
   "cell_type": "code",
   "execution_count": null,
   "metadata": {},
   "outputs": [],
   "source": [
    "#1978\n",
    "\n",
    "N = int(input())\n",
    "NUM = list(map(int,input().split()))\n",
    "Count = 0\n",
    "\n",
    "for i in NUM:\n",
    "    O = 0\n",
    "    for j in range(1,i+1):\n",
    "        if i % j == 0:\n",
    "            O += 1\n",
    "    if O == 2:\n",
    "        Count += 1\n",
    "\n",
    "print(Count)"
   ]
  },
  {
   "cell_type": "code",
   "execution_count": null,
   "metadata": {},
   "outputs": [],
   "source": [
    "#2798\n",
    "\n",
    "NM = list(map(int,input().split()))\n",
    "Card = list(map(int,input().split()))\n",
    "M = NM[1]\n",
    "NUM = 0\n",
    "add = 0\n",
    "\n",
    "for i in Card:\n",
    "\n",
    "    for j in Card:\n",
    "        if j == i:\n",
    "            continue\n",
    "        \n",
    "        for z in Card:\n",
    "            if z == j or z == i:\n",
    "                continue\n",
    "            add = i + j + z\n",
    "            \n",
    "            if NUM < add <= M:\n",
    "                NUM = add\n",
    "        \n",
    "print(NUM)\n",
    "\n"
   ]
  },
  {
   "cell_type": "code",
   "execution_count": null,
   "metadata": {},
   "outputs": [],
   "source": [
    "#2231\n",
    "\n",
    "N = int(input())\n",
    "answer = N\n",
    "\n",
    "for i in range(N,-1,-1):\n",
    "    result = i + sum(list(map(int,str(i))))\n",
    "\n",
    "    if N == result:\n",
    "        answer = i\n",
    "        \n",
    "\n",
    "if answer == N:\n",
    "    print(0)\n",
    "else:\n",
    "    print(answer)\n"
   ]
  },
  {
   "cell_type": "code",
   "execution_count": null,
   "metadata": {},
   "outputs": [],
   "source": [
    "#2292\n",
    "\n",
    "# 둘러싼 칸수는 6씩 증가한다.\n",
    "\n",
    "# 1번칸 = 1\n",
    "# 2번칸 = 1 + 6 = 7\n",
    "# 3번칸 = 7 + 6*2 = 19\n",
    "# 4번칸 = 19 + 6*3 = 37\n",
    "\n",
    "N = int(input())\n",
    "C = 1\n",
    "B = 1\n",
    "\n",
    "for i in range(0,N):\n",
    "    C += i*6\n",
    "\n",
    "    if C < N:\n",
    "        B += 1\n",
    "    elif N <= C:\n",
    "        print(B)\n",
    "        break \n"
   ]
  },
  {
   "cell_type": "code",
   "execution_count": null,
   "metadata": {},
   "outputs": [],
   "source": [
    "#15829          ** 50점 **\n",
    "\n",
    "Alp = list('abcdefghijklmnopqrstuvwxyz')\n",
    "\n",
    "L = int(input())\n",
    "C = list(map(str,input()))\n",
    "\n",
    "Alp_N = 0\n",
    "result = 0\n",
    "\n",
    "for i in range(0,L):\n",
    "    Alp_N = Alp.index(C[i]) + 1\n",
    "    result += Alp_N * 31**i\n",
    "\n",
    "print(result)"
   ]
  },
  {
   "cell_type": "code",
   "execution_count": null,
   "metadata": {},
   "outputs": [],
   "source": [
    "#1259\n",
    "\n",
    "while 1:\n",
    "    N = list(map(int,str(input())))\n",
    "    if N == [0]:\n",
    "        break\n",
    "\n",
    "    if len(N) == 1 or N[0] == N[-1] and N[1] == N[-2]:\n",
    "        print('yes')\n",
    "    elif N[0] != N[-1] or N[1] != N[-2]:\n",
    "        print('no')"
   ]
  },
  {
   "cell_type": "code",
   "execution_count": null,
   "metadata": {},
   "outputs": [],
   "source": [
    "#1259 문제의 다른 해결방법 **(문자열 뒤집기)\n",
    "\n",
    "while 1:\n",
    "    N = list(map(int,str(input())))\n",
    "\n",
    "    if N == [0]:\n",
    "        break\n",
    "    if N == N[::-1]:\n",
    "        print('yes')\n",
    "    else:\n",
    "        print('no')\n",
    "\n",
    "'''\n",
    "# 슬라이싱 기법\n",
    "\n",
    "    #기본구조\n",
    "        list[start:end:step]\n",
    "\n",
    "    ( 첫째칸: 어디서부터 시작할지,\n",
    "      둘째칸: 어디까지 슬라이싱할지\n",
    "      셋째칸: 몇칸씩 건너뛸지 **이때 -1이면 거꾸로 뒤집음 )\n",
    "\n",
    "#예시\n",
    "\n",
    "[::-1] : 전체 리스트를 뒤집음\n",
    "[::-2] : 거꾸로 2칸씩 이동\n",
    "[::2] : 앞에서부터 2칸씩 이동\n",
    "[start::step] : 특정 위치에서 시작해서 step 만큼 건너뛰며 가져옴\n",
    "'''"
   ]
  },
  {
   "cell_type": "code",
   "execution_count": null,
   "metadata": {},
   "outputs": [],
   "source": [
    "#1546\n",
    "\n",
    "A = int(input())\n",
    "N = list(map(float,input().split()))\n",
    "M = 0\n",
    "all = 0\n",
    "result = 0\n",
    "\n",
    "for i in N:\n",
    "    if M <= i:\n",
    "        M = i\n",
    "\n",
    "for i in N:\n",
    "    all += i / M * 100\n",
    "\n",
    "result = all / A\n",
    "\n",
    "print(result)"
   ]
  },
  {
   "cell_type": "code",
   "execution_count": null,
   "metadata": {},
   "outputs": [],
   "source": [
    "#2609\n",
    "\n",
    "N,M = list(map(int,input().split()))\n",
    "B = 0\n",
    "S = 0\n",
    "Y = N*M\n",
    "\n",
    "while N%M !=0:\n",
    "    B = N % M\n",
    "    N = M\n",
    "    M = B\n",
    "S = Y // M\n",
    "\n",
    "print(M)\n",
    "print(S)\n"
   ]
  },
  {
   "cell_type": "code",
   "execution_count": null,
   "metadata": {},
   "outputs": [],
   "source": [
    "#2775\n",
    "T = int(input())\n",
    "\n",
    "\n",
    "for _ in range(1,T+1):\n",
    "    k = int(input())\n",
    "    n = int(input())\n",
    "    table = [_ for _ in range(1,n+1)]\n",
    "\n",
    "    for i in range(k):\n",
    "        a = 0\n",
    "\n",
    "        for j in range(len(table)):\n",
    "            a += table[j]\n",
    "            table[j] = a\n",
    "        \n",
    "    print(a)\n"
   ]
  },
  {
   "cell_type": "code",
   "execution_count": null,
   "metadata": {},
   "outputs": [
    {
     "name": "stdout",
     "output_type": "stream",
     "text": [
      "999999901\n"
     ]
    }
   ],
   "source": [
    "#2869\n",
    "\n",
    "A, B, V = map(int,input().split())\n",
    "\n",
    "N = 0\n",
    "D = 0\n",
    "\n",
    "while True:\n",
    "    D += 1\n",
    "    N += A \n",
    "    if V <= N:\n",
    "        print(D)\n",
    "        break\n",
    "    N -= B\n",
    "\n",
    "\n",
    "Day = 1\n"
   ]
  },
  {
   "cell_type": "code",
   "execution_count": null,
   "metadata": {},
   "outputs": [
    {
     "name": "stdout",
     "output_type": "stream",
     "text": [
      "999999901\n"
     ]
    }
   ],
   "source": [
    "#2869\n",
    "\n",
    "A,B,V = map(int,input().split())\n",
    "\n",
    "Day = 0     #총 며칠?\n",
    "\n",
    "if (V-B)%(A-B) == 0:\n",
    "    Day = (V-B)//(A-B)\n",
    "\n",
    "elif 0 < (V-B)%(A-B):\n",
    "    Day = ((V-B)//(A-B))+1\n",
    "\n",
    "print(Day) \n"
   ]
  }
 ],
 "metadata": {
  "kernelspec": {
   "display_name": "Python 3",
   "language": "python",
   "name": "python3"
  },
  "language_info": {
   "codemirror_mode": {
    "name": "ipython",
    "version": 3
   },
   "file_extension": ".py",
   "mimetype": "text/x-python",
   "name": "python",
   "nbconvert_exporter": "python",
   "pygments_lexer": "ipython3",
   "version": "3.11.8"
  }
 },
 "nbformat": 4,
 "nbformat_minor": 2
}
